{
 "cells": [
  {
   "cell_type": "code",
   "execution_count": 2,
   "metadata": {},
   "outputs": [],
   "source": [
    "import time\n",
    "import math"
   ]
  },
  {
   "cell_type": "code",
   "execution_count": 4,
   "metadata": {},
   "outputs": [
    {
     "name": "stdout",
     "output_type": "stream",
     "text": [
      "enter a number1\n",
      "0.0005009174346923828\n"
     ]
    }
   ],
   "source": [
    "n = int(input(\"enter a number\"))\n",
    "start_time = time.time()\n",
    "for i in range(2,n):\n",
    "    if(n%i==0):\n",
    "        print(\"the number is not prime\")\n",
    "        break\n",
    "print(\"the number is prime.\")\n",
    "print(time.time()-start_time)\n"
   ]
  },
  {
   "cell_type": "code",
   "execution_count": 5,
   "metadata": {},
   "outputs": [
    {
     "name": "stdout",
     "output_type": "stream",
     "text": [
      "enter a number1\n",
      "0.0\n"
     ]
    }
   ],
   "source": [
    "n = int(input(\"enter a number\"))\n",
    "start_time = time.time()\n",
    "for i in range(2,int(math.sqrt(n))):\n",
    "    if(n%i==0):\n",
    "        print(\"the number is not prime\")\n",
    "        break\n",
    "print(time.time()-start_time)\n",
    "        "
   ]
  },
  {
   "cell_type": "code",
   "execution_count": 6,
   "metadata": {},
   "outputs": [
    {
     "name": "stdout",
     "output_type": "stream",
     "text": [
      "enter a number1\n",
      "0.0005002021789550781\n"
     ]
    }
   ],
   "source": [
    "n = int(input(\"enter a number\"))\n",
    "start_time = time.time()\n",
    "for i in range(2,int(n/2)):\n",
    "    if(n%i==0):\n",
    "        print(\"the number is not prime\")\n",
    "        break\n",
    "print(time.time()-start_time)\n",
    "        "
   ]
  },
  {
   "cell_type": "markdown",
   "metadata": {},
   "source": [
    "# test cases\n",
    "39916801\n",
    "524287\n",
    "97\n",
    "\n"
   ]
  }
 ],
 "metadata": {
  "kernelspec": {
   "display_name": "Python 3",
   "language": "python",
   "name": "python3"
  },
  "language_info": {
   "codemirror_mode": {
    "name": "ipython",
    "version": 3
   },
   "file_extension": ".py",
   "mimetype": "text/x-python",
   "name": "python",
   "nbconvert_exporter": "python",
   "pygments_lexer": "ipython3",
   "version": "3.6.6"
  }
 },
 "nbformat": 4,
 "nbformat_minor": 2
}
